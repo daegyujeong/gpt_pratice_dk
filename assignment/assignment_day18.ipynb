{
    "cells": [
        {
            "cell_type": "code",
            "execution_count": 24,
            "metadata": {},
            "outputs": [],
            "source": [
                "from langchain.memory import ConversationSummaryBufferMemory\n",
                "from langchain.chat_models import ChatOpenAI\n",
                "from langchain.schema.runnable import RunnablePassthrough\n",
                "from langchain.prompts import ChatPromptTemplate, MessagesPlaceholder\n",
                "\n",
                "llm = ChatOpenAI(temperature=0.1)\n",
                "\n",
                "memory = ConversationSummaryBufferMemory(\n",
                "    llm=llm,\n",
                "    max_token_limit=120,\n",
                "    return_messages=True,\n",
                ")\n",
                "\n",
                "prompt = ChatPromptTemplate.from_messages(\n",
                "    [\n",
                "        (\"system\", \"Discribe the moive as 3 emojis. e.g) train to Busan = 🚂🧟‍♂️🇰🇷\"),\n",
                "        MessagesPlaceholder(variable_name=\"history\"),\n",
                "        (\"human\", \"{question}\"),\n",
                "    ]\n",
                ")\n",
                "\n",
                "\n",
                "def load_memory(_):\n",
                "    return memory.load_memory_variables({})[\"history\"]\n",
                "\n",
                "\n",
                "chain = RunnablePassthrough.assign(history=load_memory) | prompt | llm\n",
                "\n",
                "\n",
                "def invoke_chain(question):\n",
                "    result = chain.invoke({\"question\": question})\n",
                "    memory.save_context(\n",
                "        {\"input\": question},\n",
                "        {\"output\": result.content},\n",
                "    )\n",
                "    print(result)"
            ]
        },
        {
            "cell_type": "code",
            "execution_count": 25,
            "metadata": {},
            "outputs": [
                {
                    "name": "stdout",
                    "output_type": "stream",
                    "text": [
                        "content='🪦💀🔍'\n"
                    ]
                }
            ],
            "source": [
                "invoke_chain(\"exhumation\")"
            ]
        },
        {
            "cell_type": "code",
            "execution_count": 26,
            "metadata": {},
            "outputs": [
                {
                    "name": "stdout",
                    "output_type": "stream",
                    "text": [
                        "content='🦈🏖️🚤'\n"
                    ]
                }
            ],
            "source": [
                "invoke_chain(\"Jaws\")"
            ]
        },
        {
            "cell_type": "code",
            "execution_count": 27,
            "metadata": {},
            "outputs": [
                {
                    "name": "stdout",
                    "output_type": "stream",
                    "text": [
                        "content='✈️🔥🕶️'\n"
                    ]
                }
            ],
            "source": [
                "invoke_chain(\"Top Gun\")"
            ]
        },
        {
            "cell_type": "code",
            "execution_count": 28,
            "metadata": {},
            "outputs": [
                {
                    "name": "stdout",
                    "output_type": "stream",
                    "text": [
                        "content='You mentioned \"Top Gun\" and the emoji is ✈️🔥🕶️'\n"
                    ]
                }
            ],
            "source": [
                "invoke_chain(\"What is the movie I mentioned just now? and show me the emoji\")"
            ]
        }
    ],
    "metadata": {
        "kernelspec": {
            "display_name": "env",
            "language": "python",
            "name": "python3"
        },
        "language_info": {
            "codemirror_mode": {
                "name": "ipython",
                "version": 3
            },
            "file_extension": ".py",
            "mimetype": "text/x-python",
            "name": "python",
            "nbconvert_exporter": "python",
            "pygments_lexer": "ipython3",
            "version": "3.11.6"
        }
    },
    "nbformat": 4,
    "nbformat_minor": 2
}
