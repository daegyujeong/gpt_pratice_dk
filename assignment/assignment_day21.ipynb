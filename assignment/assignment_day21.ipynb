{
    "cells": [
        {
            "cell_type": "code",
            "execution_count": 13,
            "metadata": {},
            "outputs": [],
            "source": [
                "from langchain.chat_models import ChatOpenAI\n",
                "from langchain.document_loaders import UnstructuredFileLoader\n",
                "from langchain.text_splitter import CharacterTextSplitter\n",
                "from langchain.embeddings import OpenAIEmbeddings, CacheBackedEmbeddings\n",
                "from langchain.vectorstores import FAISS\n",
                "from langchain.storage import LocalFileStore\n",
                "from langchain.prompts import ChatPromptTemplate,MessagesPlaceholder\n",
                "from langchain.schema.runnable import RunnablePassthrough, RunnableLambda\n",
                "from langchain.memory import ConversationBufferMemory\n",
                "\n",
                "llm = ChatOpenAI(\n",
                "    temperature=0.1,\n",
                ")\n",
                "\n",
                "cache_dir = LocalFileStore(\"./.cache/\")\n",
                "\n",
                "splitter = CharacterTextSplitter.from_tiktoken_encoder(\n",
                "    separator=\"\\n\",\n",
                "    chunk_size=600,\n",
                "    chunk_overlap=100,\n",
                ")\n",
                "loader = UnstructuredFileLoader(\"../files/chapter_three.txt\")\n",
                "\n",
                "docs = loader.load_and_split(text_splitter=splitter)\n",
                "\n",
                "embeddings = OpenAIEmbeddings()\n",
                "\n",
                "cached_embeddings = CacheBackedEmbeddings.from_bytes_store(embeddings, cache_dir)\n",
                "\n",
                "vectorstore = FAISS.from_documents(docs, cached_embeddings)\n",
                "\n",
                "retriever = vectorstore.as_retriever()\n",
                "\n",
                "memory = ConversationBufferMemory(llm=llm,\n",
                "                                  max_token_limit=200,\n",
                "                                  return_messages=True,\n",
                "                                  memory_key=\"chat_history\")\n",
                "\n",
                "\n",
                "\n",
                "def load_memory(_):\n",
                "    return memory.load_memory_variables({})[\"chat_history\"]\n",
                "\n",
                "\n",
                "\n",
                "\n",
                "prompt = ChatPromptTemplate.from_messages(\n",
                "    [\n",
                "        (\n",
                "            \"system\",\n",
                "            \"\"\"\n",
                "            Given the following extracted parts of a long document and a question, create a final answer. \n",
                "            If you don't know the answer, just say that you don't know. Don't try to make up an answer.\n",
                "            ------\n",
                "            {context}\n",
                "            \"\"\",\n",
                "        ),\n",
                "        MessagesPlaceholder(variable_name=\"chat_history\"),\n",
                "        (\"human\", \"{question}\"),\n",
                "    ]\n",
                ")\n",
                "\n",
                "chain = {\n",
                "    \"context\": retriever,\n",
                "    \"question\": RunnablePassthrough(),\n",
                "    \"chat_history\": load_memory,\n",
                "}  | prompt | llm\n",
                "\n",
                "chain\n",
                "def invoke_chain(question):\n",
                "    result = chain.invoke(question).content\n",
                "    memory.save_context(\n",
                "        {'input': question},\n",
                "        {'output': result},\n",
                "    )\n",
                "    print(result)\n",
                "    \n",
                "\n"
            ]
        },
        {
            "cell_type": "code",
            "execution_count": 14,
            "metadata": {},
            "outputs": [
                {
                    "name": "stdout",
                    "output_type": "stream",
                    "text": [
                        "Aaronson is guilty of the crimes he was charged with, according to the text.\n"
                    ]
                }
            ],
            "source": [
                "invoke_chain(\"Is Aaronson guilty?\")"
            ]
        },
        {
            "cell_type": "code",
            "execution_count": 15,
            "metadata": {},
            "outputs": [
                {
                    "name": "stdout",
                    "output_type": "stream",
                    "text": [
                        "In the text, the message that Winston wrote on the table was \"2+2=5\".\n"
                    ]
                }
            ],
            "source": [
                "invoke_chain(\"What message did he write in the table?\")"
            ]
        },
        {
            "cell_type": "code",
            "execution_count": 16,
            "metadata": {},
            "outputs": [
                {
                    "name": "stdout",
                    "output_type": "stream",
                    "text": [
                        "Julia is a character mentioned in the text excerpts provided. She is someone who Winston cares about deeply and is willing to sacrifice for.\n"
                    ]
                }
            ],
            "source": [
                "invoke_chain(\"Who is Julia?\")"
            ]
        },
        {
            "cell_type": "code",
            "execution_count": 19,
            "metadata": {},
            "outputs": [
                {
                    "name": "stdout",
                    "output_type": "stream",
                    "text": [
                        "1. Is Aaronson guilty?\n",
                        "   - Aaronson is guilty of the crimes he was charged with, according to the text.\n",
                        "\n",
                        "2. What message did he write in the table?\n",
                        "   - The message that Winston wrote on the table was \"2+2=5\".\n",
                        "\n",
                        "3. Who is Julia?\n",
                        "   - Julia is a character mentioned in the text excerpts provided. She is someone who Winston cares about deeply and is willing to sacrifice for.\n"
                    ]
                }
            ],
            "source": [
                "invoke_chain(\"what was my all questions and answers?\")"
            ]
        }
    ],
    "metadata": {
        "kernelspec": {
            "display_name": "env",
            "language": "python",
            "name": "python3"
        },
        "language_info": {
            "codemirror_mode": {
                "name": "ipython",
                "version": 3
            },
            "file_extension": ".py",
            "mimetype": "text/x-python",
            "name": "python",
            "nbconvert_exporter": "python",
            "pygments_lexer": "ipython3",
            "version": "3.11.6"
        }
    },
    "nbformat": 4,
    "nbformat_minor": 2
}
