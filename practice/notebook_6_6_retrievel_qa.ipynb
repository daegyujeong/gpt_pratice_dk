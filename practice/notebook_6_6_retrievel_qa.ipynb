{
    "cells": [
        {
            "cell_type": "code",
            "execution_count": 2,
            "metadata": {},
            "outputs": [
                {
                    "data": {
                        "text/plain": [
                            "'Victory Mansions is a building where Winston Smith lives in George Orwell\\'s novel \"1984.\" It is described as a run-down, dilapidated apartment building located in Airstrip One (formerly known as London) in the province of Oceania. The hallway of Victory Mansions smells of boiled cabbage and old rag mats. The building has a faulty lift, and the electricity is cut off during daylight hours as part of an economy drive. The flat itself is on the seventh floor, with a poster of Big Brother watching over the residents. Winston\\'s flat in Victory Mansions is small, and he tries to avoid being watched by the telescreen, a surveillance device that is a constant presence.'"
                        ]
                    },
                    "execution_count": 2,
                    "metadata": {},
                    "output_type": "execute_result"
                }
            ],
            "source": [
                "from langchain.chat_models import ChatOpenAI\n",
                "from langchain.document_loaders import UnstructuredFileLoader\n",
                "from langchain.text_splitter import CharacterTextSplitter\n",
                "from langchain.embeddings import OpenAIEmbeddings, CacheBackedEmbeddings\n",
                "from langchain.vectorstores import Chroma\n",
                "from langchain.storage import LocalFileStore\n",
                "from langchain.chains import RetrievalQA\n",
                "\n",
                "llm = ChatOpenAI()\n",
                "\n",
                "cache_dir = LocalFileStore(\"./.cache/\")\n",
                "\n",
                "splitter = CharacterTextSplitter.from_tiktoken_encoder(\n",
                "    separator=\"\\n\",\n",
                "    chunk_size=600,\n",
                "    chunk_overlap=100,\n",
                ")\n",
                "loader = UnstructuredFileLoader(\"../files/chapter_one.txt\")\n",
                "\n",
                "docs = loader.load_and_split(text_splitter=splitter)\n",
                "\n",
                "embeddings = OpenAIEmbeddings()\n",
                "\n",
                "cached_embeddings = CacheBackedEmbeddings.from_bytes_store(embeddings, cache_dir)\n",
                "\n",
                "vectorstore = Chroma.from_documents(docs, cached_embeddings)\n",
                "\n",
                "chain = RetrievalQA.from_chain_type(\n",
                "    llm=llm,\n",
                "    chain_type=\"stuff\",\n",
                "    retriever=vectorstore.as_retriever(),\n",
                ")\n",
                "# retriever은 vectorstoe에서 가져와도 되지만 invoke등을 통해 가져올 수 도 있음\n",
                "chain.run(\"Where does Winston live?\")\n",
                "chain.run(\"Describe Victory Mansions\")"
            ]
        }
    ],
    "metadata": {
        "kernelspec": {
            "display_name": "env",
            "language": "python",
            "name": "python3"
        },
        "language_info": {
            "codemirror_mode": {
                "name": "ipython",
                "version": 3
            },
            "file_extension": ".py",
            "mimetype": "text/x-python",
            "name": "python",
            "nbconvert_exporter": "python",
            "pygments_lexer": "ipython3",
            "version": "3.11.6"
        }
    },
    "nbformat": 4,
    "nbformat_minor": 2
}
