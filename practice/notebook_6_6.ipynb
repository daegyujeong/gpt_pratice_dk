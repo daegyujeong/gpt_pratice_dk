{
    "cells": [
        {
            "cell_type": "code",
            "execution_count": 5,
            "metadata": {},
            "outputs": [
                {
                    "name": "stderr",
                    "output_type": "stream",
                    "text": [
                        "/Users/jeongdaegyu/Documents/gpt_pratice_dk/env/lib/python3.11/site-packages/langchain/chains/llm.py:349: UserWarning: The apply_and_parse method is deprecated, instead pass an output parser directly to LLMChain.\n",
                        "  warnings.warn(\n"
                    ]
                },
                {
                    "data": {
                        "text/plain": [
                            "\"Victory Mansions is a dilapidated building with a hallway that smells of boiled cabbage and old rag mats. It has a large colored poster of a man's face on one wall, and the building is poorly maintained, with the lift often not working due to electricity cuts. The building is seven floors high, and the protagonist, Winston, lives on the seventh floor. Inside his flat, there is a telescreen constantly broadcasting information, and the building is in a state of disrepair.\""
                        ]
                    },
                    "execution_count": 5,
                    "metadata": {},
                    "output_type": "execute_result"
                }
            ],
            "source": [
                "from langchain.chat_models import ChatOpenAI\n",
                "from langchain.document_loaders import UnstructuredFileLoader\n",
                "from langchain.text_splitter import CharacterTextSplitter\n",
                "from langchain.embeddings import OpenAIEmbeddings, CacheBackedEmbeddings\n",
                "from langchain.vectorstores import FAISS\n",
                "from langchain.storage import LocalFileStore\n",
                "from langchain.chains import RetrievalQA\n",
                "\n",
                "llm = ChatOpenAI()\n",
                "\n",
                "cache_dir = LocalFileStore(\"./.cache/\")\n",
                "\n",
                "splitter = CharacterTextSplitter.from_tiktoken_encoder(\n",
                "    separator=\"\\n\",\n",
                "    chunk_size=600,\n",
                "    chunk_overlap=100,\n",
                ")\n",
                "loader = UnstructuredFileLoader(\"../files/chapter_one.txt\")\n",
                "\n",
                "docs = loader.load_and_split(text_splitter=splitter)\n",
                "\n",
                "embeddings = OpenAIEmbeddings()\n",
                "\n",
                "cached_embeddings = CacheBackedEmbeddings.from_bytes_store(embeddings, cache_dir)\n",
                "\n",
                "vectorstore = FAISS.from_documents(docs, cached_embeddings)\n",
                "\n",
                "chain = RetrievalQA.from_chain_type(\n",
                "    llm=llm,\n",
                "    chain_type=\"map_rerank\",\n",
                "    retriever=vectorstore.as_retriever(),\n",
                ")\n",
                "\n",
                "chain.run(\"Describe Victory Mansions\")"
            ]
        }
    ],
    "metadata": {
        "kernelspec": {
            "display_name": "env",
            "language": "python",
            "name": "python3"
        },
        "language_info": {
            "codemirror_mode": {
                "name": "ipython",
                "version": 3
            },
            "file_extension": ".py",
            "mimetype": "text/x-python",
            "name": "python",
            "nbconvert_exporter": "python",
            "pygments_lexer": "ipython3",
            "version": "3.11.6"
        }
    },
    "nbformat": 4,
    "nbformat_minor": 2
}
