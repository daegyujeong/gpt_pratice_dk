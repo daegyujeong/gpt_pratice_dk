{
    "cells": [
        {
            "cell_type": "code",
            "execution_count": 4,
            "metadata": {},
            "outputs": [
                {
                    "data": {
                        "text/plain": [
                            "\"Victory Mansions is a building with no windows, located in a run-down area of London, chief city of Airstrip One in Oceania. The building is described as dilapidated, lacking basic amenities, and reflecting the oppressive environment of the dystopian society in which the protagonist, Winston, lives. Inside the building, there are glass doors, a hallway with a smell of boiled cabbage, and old rag mats. The hallway also features a large colored poster of a man's face with a heavy black mustache. Winston's flat is on the seventh floor, with each landing having a poster of Big Brother watching. The view from the roof of Victory Mansions allows the simultaneous sight of all four Ministries, with the Ministry of Truth towering above the building. In Winston's flat, there is a telescreen positioned oddly opposite the window, and a shallow alcove possibly meant for bookshelves. The geography of the room and a book Winston acquired from a junk shop inspired him to take a particular action, despite knowing that owning such a book was a compromising possession in the society he lived in.\""
                        ]
                    },
                    "execution_count": 4,
                    "metadata": {},
                    "output_type": "execute_result"
                }
            ],
            "source": [
                "from langchain.chat_models import ChatOpenAI\n",
                "from langchain.document_loaders import UnstructuredFileLoader\n",
                "from langchain.text_splitter import CharacterTextSplitter\n",
                "from langchain.embeddings import OpenAIEmbeddings, CacheBackedEmbeddings\n",
                "from langchain.vectorstores import FAISS\n",
                "from langchain.storage import LocalFileStore\n",
                "from langchain.chains import RetrievalQA\n",
                "\n",
                "llm = ChatOpenAI()\n",
                "\n",
                "cache_dir = LocalFileStore(\"./.cache/\")\n",
                "\n",
                "splitter = CharacterTextSplitter.from_tiktoken_encoder(\n",
                "    separator=\"\\n\",\n",
                "    chunk_size=600,\n",
                "    chunk_overlap=100,\n",
                ")\n",
                "loader = UnstructuredFileLoader(\"../files/chapter_one.txt\")\n",
                "\n",
                "docs = loader.load_and_split(text_splitter=splitter)\n",
                "\n",
                "embeddings = OpenAIEmbeddings()\n",
                "\n",
                "cached_embeddings = CacheBackedEmbeddings.from_bytes_store(embeddings, cache_dir)\n",
                "\n",
                "vectorstore = FAISS.from_documents(docs, cached_embeddings)\n",
                "\n",
                "chain = RetrievalQA.from_chain_type(\n",
                "    llm=llm,\n",
                "    chain_type=\"map_rerank\",\n",
                "    retriever=vectorstore.as_retriever(),\n",
                ")\n",
                "\n",
                "chain.run(\"Describe Victory Mansions\")"
            ]
        }
    ],
    "metadata": {
        "kernelspec": {
            "display_name": "env",
            "language": "python",
            "name": "python3"
        },
        "language_info": {
            "codemirror_mode": {
                "name": "ipython",
                "version": 3
            },
            "file_extension": ".py",
            "mimetype": "text/x-python",
            "name": "python",
            "nbconvert_exporter": "python",
            "pygments_lexer": "ipython3",
            "version": "3.11.6"
        }
    },
    "nbformat": 4,
    "nbformat_minor": 2
}
