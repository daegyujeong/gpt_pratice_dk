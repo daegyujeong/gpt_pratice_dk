{
    "cells": [
        {
            "cell_type": "code",
            "execution_count": null,
            "metadata": {},
            "outputs": [],
            "source": [
                "from langchain.chat_models import ChatOpenAI\n",
                "from langchain.prompts import ChatPromptTemplate\n",
                "from langchain.callbacks import StreamingStdOutCallbackHandler\n",
                "\n",
                "chat = ChatOpenAI(\n",
                "    temperature=0.1,\n",
                "    streaming=True,\n",
                "    callbacks=[\n",
                "        StreamingStdOutCallbackHandler(),\n",
                "    ],\n",
                ")\n",
                "\n",
                "chef_prompt = ChatPromptTemplate.from_messages(\n",
                "    [\n",
                "        (\n",
                "            \"system\",\n",
                "            \"\",\n",
                "        ),\n",
                "        (\"human\", \"I want to cook {cuisine} food.\"),\n",
                "    ]\n",
                ")\n",
                "\n",
                "chef_chain = chef_prompt | chat"
            ]
        },
        {
            "cell_type": "code",
            "execution_count": null,
            "metadata": {},
            "outputs": [
                {
                    "name": "stdout",
                    "output_type": "stream",
                    "text": [
                        "That's great! Indian cuisine is known for its rich flavors and diverse range of dishes. Here's a simple recipe for you to try:\n",
                        "\n",
                        "Butter Chicken (Murgh Makhani):\n",
                        "Ingredients:\n",
                        "- 500g boneless chicken, cut into pieces\n",
                        "- 2 tablespoons butter\n",
                        "- 1 onion, finely chopped\n",
                        "- 2 teaspoons ginger-garlic paste\n",
                        "- 2 teaspoons red chili powder\n",
                        "- 1 teaspoon turmeric powder\n",
                        "- 1 teaspoon garam masala\n",
                        "- 1 cup tomato puree\n",
                        "- 1/2 cup heavy cream\n",
                        "- Salt to taste\n",
                        "- Fresh coriander leaves for garnish\n",
                        "\n",
                        "Instructions:\n",
                        "1. Heat butter in a pan and add the chopped onions. Sauté until they turn golden brown.\n",
                        "2. Add ginger-garlic paste and cook for a minute until the raw smell disappears.\n",
                        "3. Add red chili powder, turmeric powder, and garam masala. Mix well.\n",
                        "4. Add tomato puree and cook for 5-7 minutes until the oil separates from the masala.\n",
                        "5. Add the chicken pieces and cook until they are no longer pink.\n",
                        "6. Pour in the heavy cream and mix well. Simmer for 10-15 minutes until the chicken is cooked through and the sauce thickens.\n",
                        "7. Adjust the salt according to your taste.\n",
                        "8. Garnish with fresh coriander leaves and serve hot with naan or rice.\n",
                        "\n",
                        "Remember, Indian cuisine offers a wide variety of dishes, so feel free to explore and experiment with different recipes and flavors. Enjoy your cooking!Butter Chicken (Murgh Makhani) is a popular Indian dish known for its rich and creamy tomato-based sauce. To make this recipe vegetarian, you can replace the chicken with a suitable alternative such as tofu or paneer (Indian cottage cheese). Here's how you can modify the recipe:\n",
                        "\n",
                        "Ingredients:\n",
                        "- 500g tofu or paneer, cut into pieces\n",
                        "- 2 tablespoons butter (or vegan butter for a vegan version)\n",
                        "- 1 onion, finely chopped\n",
                        "- 2 teaspoons ginger-garlic paste\n",
                        "- 2 teaspoons red chili powder\n",
                        "- 1 teaspoon turmeric powder\n",
                        "- 1 teaspoon garam masala\n",
                        "- 1 cup tomato puree\n",
                        "- 1/2 cup heavy cream (or coconut cream for a vegan version)\n",
                        "- Salt to taste\n",
                        "- Fresh coriander leaves for garnish\n",
                        "\n",
                        "Instructions:\n",
                        "1. Heat butter in a pan and add the chopped onions. Sauté until they turn golden brown.\n",
                        "2. Add ginger-garlic paste and cook for a minute until the raw smell disappears.\n",
                        "3. Add red chili powder, turmeric powder, and garam masala. Mix well.\n",
                        "4. Add tomato puree and cook for 5-7 minutes until the oil separates from the masala.\n",
                        "5. Add the tofu or paneer pieces and cook until they are heated through.\n",
                        "6. Pour in the heavy cream (or coconut cream) and mix well. Simmer for 10-15 minutes until the sauce thickens.\n",
                        "7. Adjust the salt according to your taste.\n",
                        "8. Garnish with fresh coriander leaves and serve hot with naan or rice.\n",
                        "\n",
                        "By substituting the chicken with tofu or paneer, you can still enjoy the flavors and textures of this classic Indian dish while keeping it vegetarian."
                    ]
                },
                {
                    "data": {
                        "text/plain": [
                            "AIMessageChunk(content=\"Butter Chicken (Murgh Makhani) is a popular Indian dish known for its rich and creamy tomato-based sauce. To make this recipe vegetarian, you can replace the chicken with a suitable alternative such as tofu or paneer (Indian cottage cheese). Here's how you can modify the recipe:\\n\\nIngredients:\\n- 500g tofu or paneer, cut into pieces\\n- 2 tablespoons butter (or vegan butter for a vegan version)\\n- 1 onion, finely chopped\\n- 2 teaspoons ginger-garlic paste\\n- 2 teaspoons red chili powder\\n- 1 teaspoon turmeric powder\\n- 1 teaspoon garam masala\\n- 1 cup tomato puree\\n- 1/2 cup heavy cream (or coconut cream for a vegan version)\\n- Salt to taste\\n- Fresh coriander leaves for garnish\\n\\nInstructions:\\n1. Heat butter in a pan and add the chopped onions. Sauté until they turn golden brown.\\n2. Add ginger-garlic paste and cook for a minute until the raw smell disappears.\\n3. Add red chili powder, turmeric powder, and garam masala. Mix well.\\n4. Add tomato puree and cook for 5-7 minutes until the oil separates from the masala.\\n5. Add the tofu or paneer pieces and cook until they are heated through.\\n6. Pour in the heavy cream (or coconut cream) and mix well. Simmer for 10-15 minutes until the sauce thickens.\\n7. Adjust the salt according to your taste.\\n8. Garnish with fresh coriander leaves and serve hot with naan or rice.\\n\\nBy substituting the chicken with tofu or paneer, you can still enjoy the flavors and textures of this classic Indian dish while keeping it vegetarian.\")"
                        ]
                    },
                    "execution_count": 88,
                    "metadata": {},
                    "output_type": "execute_result"
                }
            ],
            "source": [
                "veg_chef_prompt = ChatPromptTemplate.from_messages(\n",
                "    [\n",
                "        (\n",
                "            \"system\",\n",
                "            \"You are a vegetarian chef specialized on making traditional recipies vegetarian. You find alternative ingredients and explain their preparation. You don't radically modify the recipe. If there is no alternative for a food just say you don't know how to replace it.\",\n",
                "        ),\n",
                "        (\"human\", \"{recipe}\"),\n",
                "    ]\n",
                ")\n",
                "\n",
                "\n",
                "veg_chain = veg_chef_prompt | chat\n",
                "\n",
                "\n",
                "final_chain = {\"recipe\": chef_chain} | veg_chain\n",
                "\n",
                "final_chain.invoke({\"cuisine\": \"indian\"})\n"
            ]
        }
    ],
    "metadata": {
        "kernelspec": {
            "display_name": "env",
            "language": "python",
            "name": "python3"
        },
        "language_info": {
            "codemirror_mode": {
                "name": "ipython",
                "version": 3
            },
            "file_extension": ".py",
            "mimetype": "text/x-python",
            "name": "python",
            "nbconvert_exporter": "python",
            "pygments_lexer": "ipython3",
            "version": "3.11.6"
        }
    },
    "nbformat": 4,
    "nbformat_minor": 2
}
