{
    "cells": [
        {
            "cell_type": "code",
            "execution_count": 1,
            "metadata": {},
            "outputs": [],
            "source": [
                "from langchain.utilities.duckduckgo_search import DuckDuckGoSearchAPIWrapper\n",
                "import yfinance\n",
                "import json\n",
                "\n",
                "\n",
                "def get_ticker(inputs):\n",
                "    ddg = DuckDuckGoSearchAPIWrapper()\n",
                "    company_name = inputs[\"company_name\"]\n",
                "    return ddg.run(f\"Ticker symbol of {company_name}\")\n",
                "\n",
                "\n",
                "def get_income_statement(inputs):\n",
                "    ticker = inputs[\"ticker\"]\n",
                "    stock = yfinance.Ticker(ticker)\n",
                "    return json.dumps(stock.income_stmt.to_json())\n",
                "\n",
                "\n",
                "def get_balance_sheet(inputs):\n",
                "    ticker = inputs[\"ticker\"]\n",
                "    stock = yfinance.Ticker(ticker)\n",
                "    return json.dumps(stock.balance_sheet.to_json())\n",
                "\n",
                "\n",
                "def get_daily_stock_performance(inputs):\n",
                "    ticker = inputs[\"ticker\"]\n",
                "    stock = yfinance.Ticker(ticker)\n",
                "    return json.dumps(stock.history(period=\"3mo\").to_json())\n",
                "\n",
                "\n",
                "functions_map = {\n",
                "    \"get_ticker\": get_ticker,\n",
                "    \"get_income_statement\": get_income_statement,\n",
                "    \"get_balance_sheet\": get_balance_sheet,\n",
                "    \"get_daily_stock_performance\": get_daily_stock_performance,\n",
                "}\n",
                "\n",
                "\n",
                "functions = [\n",
                "    {\n",
                "        \"type\": \"function\",\n",
                "        \"function\": {\n",
                "            \"name\": \"get_ticker\",\n",
                "            \"description\": \"Given the name of a company returns its ticker symbol\",\n",
                "            \"parameters\": {\n",
                "                \"type\": \"object\",\n",
                "                \"properties\": {\n",
                "                    \"company_name\": {\n",
                "                        \"type\": \"string\",\n",
                "                        \"description\": \"The name of the company\",\n",
                "                    }\n",
                "                },\n",
                "                \"required\": [\"company_name\"],\n",
                "            },\n",
                "        },\n",
                "    },\n",
                "    {\n",
                "        \"type\": \"function\",\n",
                "        \"function\": {\n",
                "            \"name\": \"get_income_statement\",\n",
                "            \"description\": \"Given a ticker symbol (i.e AAPL) returns the company's income statement.\",\n",
                "            \"parameters\": {\n",
                "                \"type\": \"object\",\n",
                "                \"properties\": {\n",
                "                    \"ticker\": {\n",
                "                        \"type\": \"string\",\n",
                "                        \"description\": \"Ticker symbol of the company\",\n",
                "                    },\n",
                "                },\n",
                "                \"required\": [\"ticker\"],\n",
                "            },\n",
                "        },\n",
                "    },\n",
                "    {\n",
                "        \"type\": \"function\",\n",
                "        \"function\": {\n",
                "            \"name\": \"get_balance_sheet\",\n",
                "            \"description\": \"Given a ticker symbol (i.e AAPL) returns the company's balance sheet.\",\n",
                "            \"parameters\": {\n",
                "                \"type\": \"object\",\n",
                "                \"properties\": {\n",
                "                    \"ticker\": {\n",
                "                        \"type\": \"string\",\n",
                "                        \"description\": \"Ticker symbol of the company\",\n",
                "                    },\n",
                "                },\n",
                "                \"required\": [\"ticker\"],\n",
                "            },\n",
                "        },\n",
                "    },\n",
                "    {\n",
                "        \"type\": \"function\",\n",
                "        \"function\": {\n",
                "            \"name\": \"get_daily_stock_performance\",\n",
                "            \"description\": \"Given a ticker symbol (i.e AAPL) returns the performance of the stock for the last 100 days.\",\n",
                "            \"parameters\": {\n",
                "                \"type\": \"object\",\n",
                "                \"properties\": {\n",
                "                    \"ticker\": {\n",
                "                        \"type\": \"string\",\n",
                "                        \"description\": \"Ticker symbol of the company\",\n",
                "                    },\n",
                "                },\n",
                "                \"required\": [\"ticker\"],\n",
                "            },\n",
                "        },\n",
                "    },\n",
                "]"
            ]
        },
        {
            "cell_type": "code",
            "execution_count": 2,
            "metadata": {},
            "outputs": [],
            "source": [
                "import openai as client\n",
                "openai.api_key = \n",
                "# assistant = client.beta.assistants.create(\n",
                "#     name=\"Investor Assistant\",\n",
                "#     instructions=\"You help users do research on publicly traded companies and you help users decide if they should buy the stock or not.\",\n",
                "#     model=\"gpt-4-1106-preview\",\n",
                "#     tools=functions,\n",
                "# )\n",
                "assistant_id = \"asst_LjyGnlJW0d5roo2O1Qi6rBnw\""
            ]
        },
        {
            "cell_type": "code",
            "execution_count": 3,
            "metadata": {},
            "outputs": [
                {
                    "data": {
                        "text/plain": [
                            "Thread(id='thread_Z8cULteKBQXFyLDNoVrjSblL', created_at=1713104295, metadata={}, object='thread')"
                        ]
                    },
                    "execution_count": 3,
                    "metadata": {},
                    "output_type": "execute_result"
                }
            ],
            "source": [
                "thread = client.beta.threads.create(\n",
                "    messages=[\n",
                "        {\n",
                "            \"role\": \"user\",\n",
                "            \"content\": \"I want to know if the Salesforce stock is a good buy\",\n",
                "        }\n",
                "    ]\n",
                ")\n",
                "thread"
            ]
        },
        {
            "cell_type": "code",
            "execution_count": 4,
            "metadata": {},
            "outputs": [
                {
                    "data": {
                        "text/plain": [
                            "Run(id='run_o1FRUtPRUJzWtPrn3dF8I9Nb', assistant_id='asst_LjyGnlJW0d5roo2O1Qi6rBnw', cancelled_at=None, completed_at=None, created_at=1713104295, expires_at=1713104895, failed_at=None, file_ids=[], instructions='You help users do research on publicly traded companies and you help users decide if they should buy the stock or not.', last_error=None, metadata={}, model='gpt-4-1106-preview', object='thread.run', required_action=None, started_at=None, status='queued', thread_id='thread_Z8cULteKBQXFyLDNoVrjSblL', tools=[FunctionTool(function=FunctionDefinition(name='get_ticker', description='Given the name of a company returns its ticker symbol', parameters={'type': 'object', 'properties': {'company_name': {'type': 'string', 'description': 'The name of the company'}}, 'required': ['company_name']}), type='function'), FunctionTool(function=FunctionDefinition(name='get_income_statement', description=\"Given a ticker symbol (i.e AAPL) returns the company's income statement.\", parameters={'type': 'object', 'properties': {'ticker': {'type': 'string', 'description': 'Ticker symbol of the company'}}, 'required': ['ticker']}), type='function'), FunctionTool(function=FunctionDefinition(name='get_balance_sheet', description=\"Given a ticker symbol (i.e AAPL) returns the company's balance sheet.\", parameters={'type': 'object', 'properties': {'ticker': {'type': 'string', 'description': 'Ticker symbol of the company'}}, 'required': ['ticker']}), type='function'), FunctionTool(function=FunctionDefinition(name='get_daily_stock_performance', description='Given a ticker symbol (i.e AAPL) returns the performance of the stock for the last 100 days.', parameters={'type': 'object', 'properties': {'ticker': {'type': 'string', 'description': 'Ticker symbol of the company'}}, 'required': ['ticker']}), type='function')], usage=None, temperature=1.0, max_completion_tokens=None, max_prompt_tokens=None, truncation_strategy={'type': 'auto', 'last_messages': None}, incomplete_details=None, response_format='auto', tool_choice='auto')"
                        ]
                    },
                    "execution_count": 4,
                    "metadata": {},
                    "output_type": "execute_result"
                }
            ],
            "source": [
                "run = client.beta.threads.runs.create(\n",
                "    thread_id=thread.id,\n",
                "    assistant_id=assistant_id,\n",
                ")\n",
                "run"
            ]
        },
        {
            "cell_type": "code",
            "execution_count": 5,
            "metadata": {},
            "outputs": [],
            "source": [
                "def get_run(run_id, thread_id):\n",
                "    return client.beta.threads.runs.retrieve(\n",
                "        run_id=run_id,\n",
                "        thread_id=thread_id,\n",
                "    )\n",
                "\n",
                "def get_required_action(run_id, thread_id):\n",
                "    run = get_run(run_id, thread_id)\n",
                "    return run.required_action\n",
                "\n",
                "def send_message(thread_id, content):\n",
                "    return client.beta.threads.messages.create(\n",
                "        thread_id=thread_id, role=\"user\", content=content\n",
                "    )\n",
                "\n",
                "\n",
                "def get_messages(thread_id):\n",
                "    messages = client.beta.threads.messages.list(thread_id=thread_id)\n",
                "    messages = list(messages)\n",
                "    messages.reverse()\n",
                "    for message in messages:\n",
                "        print(f\"{message.role}: {message.content[0].text.value}\")\n",
                "\n",
                "# def get_messages(thread_id):\n",
                "#     messages = client.beta.threads.messages.list(thread_id=thread_id).data\n",
                "#     messages.reverse()\n",
                "#     for message in messages:\n",
                "#         print(f\"{message.role}: \", end=' ')\n",
                "#     if message.content:\n",
                "#         print(f\"{message.content[0].text.value}\")     \n",
                "\n",
                "def get_tool_outputs(run_id, thread_id):\n",
                "    run = get_run(run_id, thread.id)\n",
                "    outputs = []\n",
                "    for action in run.required_action.submit_tool_outputs.tool_calls:\n",
                "        action_id = action.id\n",
                "        function = action.function\n",
                "        print(f\"Calling function: {function.name} with arg {function.arguments}\")\n",
                "        print(json.loads(function.arguments))\n",
                "        outputs.append(\n",
                "            {\n",
                "                \"output\": functions_map[function.name](json.loads(function.arguments)),\n",
                "                \"tool_call_id\": action_id,\n",
                "            }\n",
                "        )\n",
                "    return outputs\n",
                "\n",
                "\n",
                "def submit_tool_outputs(run_id, thread_id):\n",
                "    outpus = get_tool_outputs(run_id, thread_id)\n",
                "    return client.beta.threads.runs.submit_tool_outputs(\n",
                "        run_id=run_id, thread_id=thread_id, tool_outputs=outpus\n",
                "    )"
            ]
        },
        {
            "cell_type": "code",
            "execution_count": 7,
            "metadata": {},
            "outputs": [
                {
                    "name": "stdout",
                    "output_type": "stream",
                    "text": [
                        "Calling function: get_ticker with arg {\"company_name\":\"Salesforce\"}\n",
                        "{'company_name': 'Salesforce'}\n"
                    ]
                },
                {
                    "data": {
                        "text/plain": [
                            "Run(id='run_o1FRUtPRUJzWtPrn3dF8I9Nb', assistant_id='asst_LjyGnlJW0d5roo2O1Qi6rBnw', cancelled_at=None, completed_at=None, created_at=1713104295, expires_at=1713104895, failed_at=None, file_ids=[], instructions='You help users do research on publicly traded companies and you help users decide if they should buy the stock or not.', last_error=None, metadata={}, model='gpt-4-1106-preview', object='thread.run', required_action=None, started_at=1713104296, status='queued', thread_id='thread_Z8cULteKBQXFyLDNoVrjSblL', tools=[FunctionTool(function=FunctionDefinition(name='get_ticker', description='Given the name of a company returns its ticker symbol', parameters={'type': 'object', 'properties': {'company_name': {'type': 'string', 'description': 'The name of the company'}}, 'required': ['company_name']}), type='function'), FunctionTool(function=FunctionDefinition(name='get_income_statement', description=\"Given a ticker symbol (i.e AAPL) returns the company's income statement.\", parameters={'type': 'object', 'properties': {'ticker': {'type': 'string', 'description': 'Ticker symbol of the company'}}, 'required': ['ticker']}), type='function'), FunctionTool(function=FunctionDefinition(name='get_balance_sheet', description=\"Given a ticker symbol (i.e AAPL) returns the company's balance sheet.\", parameters={'type': 'object', 'properties': {'ticker': {'type': 'string', 'description': 'Ticker symbol of the company'}}, 'required': ['ticker']}), type='function'), FunctionTool(function=FunctionDefinition(name='get_daily_stock_performance', description='Given a ticker symbol (i.e AAPL) returns the performance of the stock for the last 100 days.', parameters={'type': 'object', 'properties': {'ticker': {'type': 'string', 'description': 'Ticker symbol of the company'}}, 'required': ['ticker']}), type='function')], usage=None, temperature=1.0, max_completion_tokens=None, max_prompt_tokens=None, truncation_strategy={'type': 'auto', 'last_messages': None}, incomplete_details=None, response_format='auto', tool_choice='auto')"
                        ]
                    },
                    "execution_count": 7,
                    "metadata": {},
                    "output_type": "execute_result"
                }
            ],
            "source": [
                "submit_tool_outputs(run.id, thread.id)"
            ]
        },
        {
            "cell_type": "code",
            "execution_count": null,
            "metadata": {},
            "outputs": [
                {
                    "name": "stdout",
                    "output_type": "stream",
                    "text": [
                        "requires_action RequiredAction(submit_tool_outputs=RequiredActionSubmitToolOutputs(tool_calls=[RequiredActionFunctionToolCall(id='call_jRCojIwxn3djHXUatlLEDjCi', function=Function(arguments='{\"company_name\": \"Salesforce\"}', name='get_ticker'), type='function'), RequiredActionFunctionToolCall(id='call_77Kp2VKqjrShlQyrKuoaNHBb', function=Function(arguments='{\"ticker\": \"CRM\"}', name='get_income_statement'), type='function'), RequiredActionFunctionToolCall(id='call_8uWR45mNp7lQxS4GSvHRDelV', function=Function(arguments='{\"ticker\": \"CRM\"}', name='get_balance_sheet'), type='function'), RequiredActionFunctionToolCall(id='call_FZhbPkOHA4sHY74rv5qTcy1S', function=Function(arguments='{\"ticker\": \"CRM\"}', name='get_daily_stock_performance'), type='function')]), type='submit_tool_outputs')\n"
                    ]
                }
            ],
            "source": [
                "print(get_run(run.id, thread.id).status,get_required_action(run.id, thread.id))"
            ]
        },
        {
            "cell_type": "code",
            "execution_count": null,
            "metadata": {},
            "outputs": [
                {
                    "name": "stdout",
                    "output_type": "stream",
                    "text": [
                        "user:  assistant:  assistant:  The evaluation of Salesforce (CRM) stock as a potential investment would require a careful analysis of the company's financial performance, along with market trends and other factors that may influence the stock value. Based on the data provided, an in-depth look at Salesforce's most recent financial statements and stock performance takes into account several key areas.\n",
                        "\n",
                        "Financials:\n",
                        "\n",
                        "**Income Statement Summary**\n",
                        "- **Most Recent Quarter (MRQ):**\n",
                        "  - Total Revenue: $34.86B\n",
                        "  - Gross Profit: $26.32B\n",
                        "  - Operating Income: $5.00B\n",
                        "  - Net Income: $4.14B\n",
                        "  - EBITDA: $9.96B\n",
                        "  - EPS (Diluted): $4.20\n",
                        "\n",
                        "- **Year-over-Year (YoY) Comparison to Previous MRQ:**\n",
                        "  - Total Revenue: Increased from $31.35B\n",
                        "  - Net Income: Increased significantly from $208M\n",
                        "  - EBITDA: Increased from $5.64B\n",
                        "\n",
                        "This recent performance indicates growth in both top-line revenue and bottom-line profit, suggesting an improvement in the company's financial health.\n",
                        "\n",
                        "**Balance Sheet Summary**\n",
                        "- **MRQ:**\n",
                        "  - Total Assets: $99.82B\n",
                        "  - Total Liabilities: $40.18B\n",
                        "  - Total Equity: $59.65B\n",
                        "  - Net Debt: $954M\n",
                        "  - Goodwill and Intangible Assets: $53.9B\n",
                        "\n",
                        "Salesforce has a healthy equity position and a moderate level of net debt relative to its assets.\n",
                        "\n",
                        "**Stock Performance Over the Last 100 Days**\n",
                        "The stock has experienced fluctuations, with both positive and negative movements. To make informed decisions, it is important to consider the current stock trends in relation to general market conditions and sector-specific events.\n",
                        "\n",
                        "**Considerations**\n",
                        "- Salesforce's revenues and net income appear to be growing, indicating the company's operational success.\n",
                        "- The company has a strong balance sheet with a good balance between assets and liabilities.\n",
                        "- CRM's stock performance should be assessed in the context of the broader market and tech industry dynamics.\n",
                        "\n",
                        "**Final Evaluation**\n",
                        "To decide if Salesforce's stock (CRM) is a good buy, consider your investment goals, risk tolerance, CRM's valuation metrics (not provided here), the broader market situation, and future growth prospects.\n",
                        "\n",
                        "It is essential to conduct further analysis, including examining competitors, market trends, and any recent news or events affecting the company. If after evaluating all factors it aligns with your investment strategy, it may be considered a potential addition to your portfolio. For personalized investment advice, please consult with a financial advisor.\n"
                    ]
                }
            ],
            "source": [
                "get_messages(thread.id)"
            ]
        },
        {
            "cell_type": "code",
            "execution_count": null,
            "metadata": {},
            "outputs": [
                {
                    "ename": "BadRequestError",
                    "evalue": "Error code: 400 - {'error': {'message': \"Can't add messages to thread_40IU5K0qjBjOuNDQKEjWVDLk while a run run_kB3L5vZ61dA5jXSp4y9CCXmH is active.\", 'type': 'invalid_request_error', 'param': None, 'code': None}}",
                    "output_type": "error",
                    "traceback": [
                        "\u001b[0;31m---------------------------------------------------------------------------\u001b[0m",
                        "\u001b[0;31mBadRequestError\u001b[0m                           Traceback (most recent call last)",
                        "Cell \u001b[0;32mIn[11], line 1\u001b[0m\n\u001b[0;32m----> 1\u001b[0m \u001b[43msend_message\u001b[49m\u001b[43m(\u001b[49m\u001b[43mthread\u001b[49m\u001b[38;5;241;43m.\u001b[39;49m\u001b[43mid\u001b[49m\u001b[43m,\u001b[49m\u001b[43m \u001b[49m\u001b[38;5;124;43m\"\u001b[39;49m\u001b[38;5;124;43mgo ahead\u001b[39;49m\u001b[38;5;124;43m\"\u001b[39;49m\u001b[43m)\u001b[49m\n",
                        "Cell \u001b[0;32mIn[5], line 9\u001b[0m, in \u001b[0;36msend_message\u001b[0;34m(thread_id, content)\u001b[0m\n\u001b[1;32m      8\u001b[0m \u001b[38;5;28;01mdef\u001b[39;00m \u001b[38;5;21msend_message\u001b[39m(thread_id, content):\n\u001b[0;32m----> 9\u001b[0m     \u001b[38;5;28;01mreturn\u001b[39;00m \u001b[43mclient\u001b[49m\u001b[38;5;241;43m.\u001b[39;49m\u001b[43mbeta\u001b[49m\u001b[38;5;241;43m.\u001b[39;49m\u001b[43mthreads\u001b[49m\u001b[38;5;241;43m.\u001b[39;49m\u001b[43mmessages\u001b[49m\u001b[38;5;241;43m.\u001b[39;49m\u001b[43mcreate\u001b[49m\u001b[43m(\u001b[49m\n\u001b[1;32m     10\u001b[0m \u001b[43m        \u001b[49m\u001b[43mthread_id\u001b[49m\u001b[38;5;241;43m=\u001b[39;49m\u001b[43mthread_id\u001b[49m\u001b[43m,\u001b[49m\u001b[43m \u001b[49m\u001b[43mrole\u001b[49m\u001b[38;5;241;43m=\u001b[39;49m\u001b[38;5;124;43m\"\u001b[39;49m\u001b[38;5;124;43muser\u001b[39;49m\u001b[38;5;124;43m\"\u001b[39;49m\u001b[43m,\u001b[49m\u001b[43m \u001b[49m\u001b[43mcontent\u001b[49m\u001b[38;5;241;43m=\u001b[39;49m\u001b[43mcontent\u001b[49m\n\u001b[1;32m     11\u001b[0m \u001b[43m    \u001b[49m\u001b[43m)\u001b[49m\n",
                        "File \u001b[0;32m~/Documents/gpt_pratice_dk/env/lib/python3.11/site-packages/openai/resources/beta/threads/messages/messages.py:100\u001b[0m, in \u001b[0;36mMessages.create\u001b[0;34m(self, thread_id, content, role, file_ids, metadata, extra_headers, extra_query, extra_body, timeout)\u001b[0m\n\u001b[1;32m     98\u001b[0m     \u001b[38;5;28;01mraise\u001b[39;00m \u001b[38;5;167;01mValueError\u001b[39;00m(\u001b[38;5;124mf\u001b[39m\u001b[38;5;124m\"\u001b[39m\u001b[38;5;124mExpected a non-empty value for `thread_id` but received \u001b[39m\u001b[38;5;132;01m{\u001b[39;00mthread_id\u001b[38;5;132;01m!r}\u001b[39;00m\u001b[38;5;124m\"\u001b[39m)\n\u001b[1;32m     99\u001b[0m extra_headers \u001b[38;5;241m=\u001b[39m {\u001b[38;5;124m\"\u001b[39m\u001b[38;5;124mOpenAI-Beta\u001b[39m\u001b[38;5;124m\"\u001b[39m: \u001b[38;5;124m\"\u001b[39m\u001b[38;5;124massistants=v1\u001b[39m\u001b[38;5;124m\"\u001b[39m, \u001b[38;5;241m*\u001b[39m\u001b[38;5;241m*\u001b[39m(extra_headers \u001b[38;5;129;01mor\u001b[39;00m {})}\n\u001b[0;32m--> 100\u001b[0m \u001b[38;5;28;01mreturn\u001b[39;00m \u001b[38;5;28;43mself\u001b[39;49m\u001b[38;5;241;43m.\u001b[39;49m\u001b[43m_post\u001b[49m\u001b[43m(\u001b[49m\n\u001b[1;32m    101\u001b[0m \u001b[43m    \u001b[49m\u001b[38;5;124;43mf\u001b[39;49m\u001b[38;5;124;43m\"\u001b[39;49m\u001b[38;5;124;43m/threads/\u001b[39;49m\u001b[38;5;132;43;01m{\u001b[39;49;00m\u001b[43mthread_id\u001b[49m\u001b[38;5;132;43;01m}\u001b[39;49;00m\u001b[38;5;124;43m/messages\u001b[39;49m\u001b[38;5;124;43m\"\u001b[39;49m\u001b[43m,\u001b[49m\n\u001b[1;32m    102\u001b[0m \u001b[43m    \u001b[49m\u001b[43mbody\u001b[49m\u001b[38;5;241;43m=\u001b[39;49m\u001b[43mmaybe_transform\u001b[49m\u001b[43m(\u001b[49m\n\u001b[1;32m    103\u001b[0m \u001b[43m        \u001b[49m\u001b[43m{\u001b[49m\n\u001b[1;32m    104\u001b[0m \u001b[43m            \u001b[49m\u001b[38;5;124;43m\"\u001b[39;49m\u001b[38;5;124;43mcontent\u001b[39;49m\u001b[38;5;124;43m\"\u001b[39;49m\u001b[43m:\u001b[49m\u001b[43m \u001b[49m\u001b[43mcontent\u001b[49m\u001b[43m,\u001b[49m\n\u001b[1;32m    105\u001b[0m \u001b[43m            \u001b[49m\u001b[38;5;124;43m\"\u001b[39;49m\u001b[38;5;124;43mrole\u001b[39;49m\u001b[38;5;124;43m\"\u001b[39;49m\u001b[43m:\u001b[49m\u001b[43m \u001b[49m\u001b[43mrole\u001b[49m\u001b[43m,\u001b[49m\n\u001b[1;32m    106\u001b[0m \u001b[43m            \u001b[49m\u001b[38;5;124;43m\"\u001b[39;49m\u001b[38;5;124;43mfile_ids\u001b[39;49m\u001b[38;5;124;43m\"\u001b[39;49m\u001b[43m:\u001b[49m\u001b[43m \u001b[49m\u001b[43mfile_ids\u001b[49m\u001b[43m,\u001b[49m\n\u001b[1;32m    107\u001b[0m \u001b[43m            \u001b[49m\u001b[38;5;124;43m\"\u001b[39;49m\u001b[38;5;124;43mmetadata\u001b[39;49m\u001b[38;5;124;43m\"\u001b[39;49m\u001b[43m:\u001b[49m\u001b[43m \u001b[49m\u001b[43mmetadata\u001b[49m\u001b[43m,\u001b[49m\n\u001b[1;32m    108\u001b[0m \u001b[43m        \u001b[49m\u001b[43m}\u001b[49m\u001b[43m,\u001b[49m\n\u001b[1;32m    109\u001b[0m \u001b[43m        \u001b[49m\u001b[43mmessage_create_params\u001b[49m\u001b[38;5;241;43m.\u001b[39;49m\u001b[43mMessageCreateParams\u001b[49m\u001b[43m,\u001b[49m\n\u001b[1;32m    110\u001b[0m \u001b[43m    \u001b[49m\u001b[43m)\u001b[49m\u001b[43m,\u001b[49m\n\u001b[1;32m    111\u001b[0m \u001b[43m    \u001b[49m\u001b[43moptions\u001b[49m\u001b[38;5;241;43m=\u001b[39;49m\u001b[43mmake_request_options\u001b[49m\u001b[43m(\u001b[49m\n\u001b[1;32m    112\u001b[0m \u001b[43m        \u001b[49m\u001b[43mextra_headers\u001b[49m\u001b[38;5;241;43m=\u001b[39;49m\u001b[43mextra_headers\u001b[49m\u001b[43m,\u001b[49m\u001b[43m \u001b[49m\u001b[43mextra_query\u001b[49m\u001b[38;5;241;43m=\u001b[39;49m\u001b[43mextra_query\u001b[49m\u001b[43m,\u001b[49m\u001b[43m \u001b[49m\u001b[43mextra_body\u001b[49m\u001b[38;5;241;43m=\u001b[39;49m\u001b[43mextra_body\u001b[49m\u001b[43m,\u001b[49m\u001b[43m \u001b[49m\u001b[43mtimeout\u001b[49m\u001b[38;5;241;43m=\u001b[39;49m\u001b[43mtimeout\u001b[49m\n\u001b[1;32m    113\u001b[0m \u001b[43m    \u001b[49m\u001b[43m)\u001b[49m\u001b[43m,\u001b[49m\n\u001b[1;32m    114\u001b[0m \u001b[43m    \u001b[49m\u001b[43mcast_to\u001b[49m\u001b[38;5;241;43m=\u001b[39;49m\u001b[43mMessage\u001b[49m\u001b[43m,\u001b[49m\n\u001b[1;32m    115\u001b[0m \u001b[43m\u001b[49m\u001b[43m)\u001b[49m\n",
                        "File \u001b[0;32m~/Documents/gpt_pratice_dk/env/lib/python3.11/site-packages/openai/_base_client.py:1233\u001b[0m, in \u001b[0;36mSyncAPIClient.post\u001b[0;34m(self, path, cast_to, body, options, files, stream, stream_cls)\u001b[0m\n\u001b[1;32m   1219\u001b[0m \u001b[38;5;28;01mdef\u001b[39;00m \u001b[38;5;21mpost\u001b[39m(\n\u001b[1;32m   1220\u001b[0m     \u001b[38;5;28mself\u001b[39m,\n\u001b[1;32m   1221\u001b[0m     path: \u001b[38;5;28mstr\u001b[39m,\n\u001b[0;32m   (...)\u001b[0m\n\u001b[1;32m   1228\u001b[0m     stream_cls: \u001b[38;5;28mtype\u001b[39m[_StreamT] \u001b[38;5;241m|\u001b[39m \u001b[38;5;28;01mNone\u001b[39;00m \u001b[38;5;241m=\u001b[39m \u001b[38;5;28;01mNone\u001b[39;00m,\n\u001b[1;32m   1229\u001b[0m ) \u001b[38;5;241m-\u001b[39m\u001b[38;5;241m>\u001b[39m ResponseT \u001b[38;5;241m|\u001b[39m _StreamT:\n\u001b[1;32m   1230\u001b[0m     opts \u001b[38;5;241m=\u001b[39m FinalRequestOptions\u001b[38;5;241m.\u001b[39mconstruct(\n\u001b[1;32m   1231\u001b[0m         method\u001b[38;5;241m=\u001b[39m\u001b[38;5;124m\"\u001b[39m\u001b[38;5;124mpost\u001b[39m\u001b[38;5;124m\"\u001b[39m, url\u001b[38;5;241m=\u001b[39mpath, json_data\u001b[38;5;241m=\u001b[39mbody, files\u001b[38;5;241m=\u001b[39mto_httpx_files(files), \u001b[38;5;241m*\u001b[39m\u001b[38;5;241m*\u001b[39moptions\n\u001b[1;32m   1232\u001b[0m     )\n\u001b[0;32m-> 1233\u001b[0m     \u001b[38;5;28;01mreturn\u001b[39;00m cast(ResponseT, \u001b[38;5;28;43mself\u001b[39;49m\u001b[38;5;241;43m.\u001b[39;49m\u001b[43mrequest\u001b[49m\u001b[43m(\u001b[49m\u001b[43mcast_to\u001b[49m\u001b[43m,\u001b[49m\u001b[43m \u001b[49m\u001b[43mopts\u001b[49m\u001b[43m,\u001b[49m\u001b[43m \u001b[49m\u001b[43mstream\u001b[49m\u001b[38;5;241;43m=\u001b[39;49m\u001b[43mstream\u001b[49m\u001b[43m,\u001b[49m\u001b[43m \u001b[49m\u001b[43mstream_cls\u001b[49m\u001b[38;5;241;43m=\u001b[39;49m\u001b[43mstream_cls\u001b[49m\u001b[43m)\u001b[49m)\n",
                        "File \u001b[0;32m~/Documents/gpt_pratice_dk/env/lib/python3.11/site-packages/openai/_base_client.py:922\u001b[0m, in \u001b[0;36mSyncAPIClient.request\u001b[0;34m(self, cast_to, options, remaining_retries, stream, stream_cls)\u001b[0m\n\u001b[1;32m    913\u001b[0m \u001b[38;5;28;01mdef\u001b[39;00m \u001b[38;5;21mrequest\u001b[39m(\n\u001b[1;32m    914\u001b[0m     \u001b[38;5;28mself\u001b[39m,\n\u001b[1;32m    915\u001b[0m     cast_to: Type[ResponseT],\n\u001b[0;32m   (...)\u001b[0m\n\u001b[1;32m    920\u001b[0m     stream_cls: \u001b[38;5;28mtype\u001b[39m[_StreamT] \u001b[38;5;241m|\u001b[39m \u001b[38;5;28;01mNone\u001b[39;00m \u001b[38;5;241m=\u001b[39m \u001b[38;5;28;01mNone\u001b[39;00m,\n\u001b[1;32m    921\u001b[0m ) \u001b[38;5;241m-\u001b[39m\u001b[38;5;241m>\u001b[39m ResponseT \u001b[38;5;241m|\u001b[39m _StreamT:\n\u001b[0;32m--> 922\u001b[0m     \u001b[38;5;28;01mreturn\u001b[39;00m \u001b[38;5;28;43mself\u001b[39;49m\u001b[38;5;241;43m.\u001b[39;49m\u001b[43m_request\u001b[49m\u001b[43m(\u001b[49m\n\u001b[1;32m    923\u001b[0m \u001b[43m        \u001b[49m\u001b[43mcast_to\u001b[49m\u001b[38;5;241;43m=\u001b[39;49m\u001b[43mcast_to\u001b[49m\u001b[43m,\u001b[49m\n\u001b[1;32m    924\u001b[0m \u001b[43m        \u001b[49m\u001b[43moptions\u001b[49m\u001b[38;5;241;43m=\u001b[39;49m\u001b[43moptions\u001b[49m\u001b[43m,\u001b[49m\n\u001b[1;32m    925\u001b[0m \u001b[43m        \u001b[49m\u001b[43mstream\u001b[49m\u001b[38;5;241;43m=\u001b[39;49m\u001b[43mstream\u001b[49m\u001b[43m,\u001b[49m\n\u001b[1;32m    926\u001b[0m \u001b[43m        \u001b[49m\u001b[43mstream_cls\u001b[49m\u001b[38;5;241;43m=\u001b[39;49m\u001b[43mstream_cls\u001b[49m\u001b[43m,\u001b[49m\n\u001b[1;32m    927\u001b[0m \u001b[43m        \u001b[49m\u001b[43mremaining_retries\u001b[49m\u001b[38;5;241;43m=\u001b[39;49m\u001b[43mremaining_retries\u001b[49m\u001b[43m,\u001b[49m\n\u001b[1;32m    928\u001b[0m \u001b[43m    \u001b[49m\u001b[43m)\u001b[49m\n",
                        "File \u001b[0;32m~/Documents/gpt_pratice_dk/env/lib/python3.11/site-packages/openai/_base_client.py:1013\u001b[0m, in \u001b[0;36mSyncAPIClient._request\u001b[0;34m(self, cast_to, options, remaining_retries, stream, stream_cls)\u001b[0m\n\u001b[1;32m   1010\u001b[0m         err\u001b[38;5;241m.\u001b[39mresponse\u001b[38;5;241m.\u001b[39mread()\n\u001b[1;32m   1012\u001b[0m     log\u001b[38;5;241m.\u001b[39mdebug(\u001b[38;5;124m\"\u001b[39m\u001b[38;5;124mRe-raising status error\u001b[39m\u001b[38;5;124m\"\u001b[39m)\n\u001b[0;32m-> 1013\u001b[0m     \u001b[38;5;28;01mraise\u001b[39;00m \u001b[38;5;28mself\u001b[39m\u001b[38;5;241m.\u001b[39m_make_status_error_from_response(err\u001b[38;5;241m.\u001b[39mresponse) \u001b[38;5;28;01mfrom\u001b[39;00m \u001b[38;5;28;01mNone\u001b[39;00m\n\u001b[1;32m   1015\u001b[0m \u001b[38;5;28;01mreturn\u001b[39;00m \u001b[38;5;28mself\u001b[39m\u001b[38;5;241m.\u001b[39m_process_response(\n\u001b[1;32m   1016\u001b[0m     cast_to\u001b[38;5;241m=\u001b[39mcast_to,\n\u001b[1;32m   1017\u001b[0m     options\u001b[38;5;241m=\u001b[39moptions,\n\u001b[0;32m   (...)\u001b[0m\n\u001b[1;32m   1020\u001b[0m     stream_cls\u001b[38;5;241m=\u001b[39mstream_cls,\n\u001b[1;32m   1021\u001b[0m )\n",
                        "\u001b[0;31mBadRequestError\u001b[0m: Error code: 400 - {'error': {'message': \"Can't add messages to thread_40IU5K0qjBjOuNDQKEjWVDLk while a run run_kB3L5vZ61dA5jXSp4y9CCXmH is active.\", 'type': 'invalid_request_error', 'param': None, 'code': None}}"
                    ]
                }
            ],
            "source": [
                "send_message(thread.id, \"go ahead\")"
            ]
        }
    ],
    "metadata": {
        "kernelspec": {
            "display_name": "env",
            "language": "python",
            "name": "python3"
        },
        "language_info": {
            "codemirror_mode": {
                "name": "ipython",
                "version": 3
            },
            "file_extension": ".py",
            "mimetype": "text/x-python",
            "name": "python",
            "nbconvert_exporter": "python",
            "pygments_lexer": "ipython3",
            "version": "3.11.6"
        }
    },
    "nbformat": 4,
    "nbformat_minor": 2
}
