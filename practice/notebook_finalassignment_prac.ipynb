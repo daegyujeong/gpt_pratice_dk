{
 "cells": [
  {
   "cell_type": "code",
   "execution_count": 15,
   "metadata": {},
   "outputs": [],
   "source": [
    "from langchain.utilities.wikipedia import WikipediaAPIWrapper\n",
    "from langchain.utilities.duckduckgo_search import DuckDuckGoSearchAPIWrapper\n",
    "import openai as client\n",
    "from bs4 import BeautifulSoup\n",
    "import requests\n",
    "def DuckDuckSearchTool(inputs):\n",
    "    ddg = DuckDuckGoSearchAPIWrapper()\n",
    "    query = inputs[\"query\"]\n",
    "    results = ddg.run(query)\n",
    "    # Assuming the results are a JSON object and the first result's URL is accessible via ['results'][0]['url']\n",
    "    if results and 'results' in results and len(results['results']) > 0:\n",
    "        url = results['results'][0]['url']  # Access the URL of the first result\n",
    "        print(\"url:\",url)\n",
    "    print(\"results:\",results)\n",
    "    return results\n",
    "\n",
    "\n",
    "def WikiSearchTool(inputs):\n",
    "    wiki = WikipediaAPIWrapper()\n",
    "    query = inputs[\"query\"]\n",
    "    results = wiki.run(query)\n",
    "    if results and 'results' in results and len(results['results']) > 0:\n",
    "        url = results['results'][0]['url']  # Access the URL of the first result\n",
    "        print(\"url:\",url)\n",
    "    print(\"results:\",results)    \n",
    "    return results\n",
    "\n",
    "def SaveToTextFileTool(inputs):\n",
    "    try:\n",
    "        file_path = f\"MyResearch.txt\"\n",
    "        if \"url\" in inputs.keys():\n",
    "            url = inputs[\"url\"]\n",
    "            response = requests.get(url)\n",
    "            soup = BeautifulSoup(response.content, \"html.parser\")\n",
    "            response.raise_for_status()  # Raises an error for bad responses\n",
    "            title_text = soup.find('title').text if soup.find('title') else 'Title tag not found'\n",
    "        else:\n",
    "            text = inputs[\"text\"]\n",
    "            with open(file_path, 'w') as f:\n",
    "                f.write(text)\n",
    "            return \"Text saved to file.\"\n",
    "    except requests.RequestException as e:\n",
    "        with open(file_path, 'w') as f:\n",
    "            f.write(text)     \n",
    "        return f\"Failed to load URL: {str(e)}\"\n",
    "    except ValueError:\n",
    "        with open(file_path, 'w') as f:\n",
    "            f.write(text)     \n",
    "        return \"URL did not return a JSON response.\"       \n",
    "\n",
    "\n",
    "     \n",
    "functions = [\n",
    "    {\n",
    "        \"type\": \"function\",\n",
    "        \"function\": {\n",
    "            \"name\": \"DuckDuckSearchTool\",\n",
    "            \"description\": \"Use this tool to search for the provided query and provide one url from the searching.\",\n",
    "            \"parameters\": {\n",
    "                \"type\": \"object\",\n",
    "                \"properties\": {\n",
    "                    \"query\": {\n",
    "                        \"type\": \"string\",\n",
    "                        \"description\": \"The query that user wants to search\",\n",
    "                    }\n",
    "                },\n",
    "                \"required\": [\"query\"],\n",
    "            },\n",
    "        },\n",
    "    },\n",
    "    {\n",
    "        \"type\": \"function\",\n",
    "        \"function\": {\n",
    "            \"name\": \"WikiSearchTool\",\n",
    "            \"description\": \"Use this tool to search for the provided query and provide one url from the searching.\",\n",
    "            \"parameters\": {\n",
    "                \"type\": \"object\",\n",
    "                \"properties\": {\n",
    "                    \"query\": {\n",
    "                        \"type\": \"string\",\n",
    "                        \"description\": \"The query that user wants to search\",\n",
    "                    },\n",
    "                },\n",
    "                \"required\": [\"query\"],\n",
    "            },\n",
    "        },\n",
    "    },\n",
    "    {\n",
    "        \"type\": \"function\",\n",
    "        \"function\": {\n",
    "            \"name\": \"SaveToTextFileTool\",\n",
    "            \"description\": \"Use this tool to save the text file.\",\n",
    "            \"parameters\": {\n",
    "                \"type\": \"object\",\n",
    "                \"properties\": {\n",
    "                    \"text\": {\n",
    "                        \"type\": \"string\",\n",
    "                        \"description\": \"The text that user wants to save to the text file.\",\n",
    "                    },\n",
    "                    \"url\": {\n",
    "                        \"type\": \"string\",\n",
    "                        \"description\": \"The url that user wants to enter and extract text to save as the text file.\",\n",
    "                    },\n",
    "                },\n",
    "                \"required\": [\"text\"],\n",
    "            },\n",
    "        },\n",
    "    },\n",
    "]\n",
    "\n",
    "assistant = client.beta.assistants.create(\n",
    "    name=\"Research Assistant\",\n",
    "    instructions=\"\"\"You help users do research from the web.\n",
    "    Search the query using DuckDuckSearchTool and extract the content from the link.\n",
    "    Search the query using WikiSearchTool and extract the content from the link.\n",
    "    if there is link from the content, enter the link and extract the content.\n",
    "    if there is no link just save text content from the research.\n",
    "    Save the content as text file.\"\"\",\n",
    "    model=\"gpt-4-1106-preview\",\n",
    "    tools=functions,\n",
    ")        "
   ]
  },
  {
   "cell_type": "code",
   "execution_count": 19,
   "metadata": {},
   "outputs": [
    {
     "ename": "AttributeError",
     "evalue": "'dict' object has no attribute 'role'",
     "output_type": "error",
     "traceback": [
      "\u001b[0;31m---------------------------------------------------------------------------\u001b[0m",
      "\u001b[0;31mAttributeError\u001b[0m                            Traceback (most recent call last)",
      "Cell \u001b[0;32mIn[19], line 2\u001b[0m\n\u001b[1;32m      1\u001b[0m abb\u001b[38;5;241m=\u001b[39m{\u001b[38;5;124m\"\u001b[39m\u001b[38;5;124mrole\u001b[39m\u001b[38;5;124m\"\u001b[39m: \u001b[38;5;124m\"\u001b[39m\u001b[38;5;124massistant\u001b[39m\u001b[38;5;124m\"\u001b[39m, \u001b[38;5;124m\"\u001b[39m\u001b[38;5;124mcontent\u001b[39m\u001b[38;5;124m\"\u001b[39m: \u001b[38;5;124m\"\u001b[39m\u001b[38;5;124mIt seems you might want to initiate some sort of activity, but your message is quite vague. Could you please provide more details about what you would like to do? If you have a specific question, topic, or task in mind, please let me know so I can assist you accordingly. If you\u001b[39m\u001b[38;5;124m'\u001b[39m\u001b[38;5;124mre looking to use one of the tools available, please specify which tool you\u001b[39m\u001b[38;5;124m'\u001b[39m\u001b[38;5;124md like to use and the necessary details for your request.\u001b[39m\u001b[38;5;124m\"\u001b[39m}\n\u001b[0;32m----> 2\u001b[0m \u001b[43mabb\u001b[49m\u001b[38;5;241;43m.\u001b[39;49m\u001b[43mrole\u001b[49m\n",
      "\u001b[0;31mAttributeError\u001b[0m: 'dict' object has no attribute 'role'"
     ]
    }
   ],
   "source": [
    "abb={\"role\": \"assistant\", \"content\": \"It seems you might want to initiate some sort of activity, but your message is quite vague. Could you please provide more details about what you would like to do? If you have a specific question, topic, or task in mind, please let me know so I can assist you accordingly. If you're looking to use one of the tools available, please specify which tool you'd like to use and the necessary details for your request.\"}\n",
    "abb.role\n"
   ]
  },
  {
   "cell_type": "code",
   "execution_count": 13,
   "metadata": {},
   "outputs": [
    {
     "name": "stdout",
     "output_type": "stream",
     "text": [
      "results: Learn the latest definitions and birth years for different generational groups, including Gen Z and Gen Alpha. Find out how these generations are shaped by historical, economic, and technological factors. Generation Z (often shortened to Gen Z), colloquially known as Zoomers, is the demographic cohort succeeding Millennials and preceding Generation Alpha.Researchers and popular media use the mid-to-late 1990s as starting birth years and the early 2010s as ending birth years. Most members of Generation Z are the children of Generation X or older Millennials. Key insights in 4 charts. Gen Z is the generation born in the 15-year span from 1997 to 2012. In 2024, they will turn between 12 and 27 years old. This is the newest generation to gain influence in the world, from joining the workforce to being old enough to vote. The oldest Gen Zers may have already voted in 2020 and possibly the 2016 elections. Learn who are the Gen Zers, the most racially and ethnically diverse generation of Americans born from 1997 to 2012. Find out how they view their finances, retirement, and social issues in the face of the COVID-19 pandemic. These are the top four drivers that influence the happiness of Gen Zers, the survey found: Purpose and meaning. Basic needs and security. Negative emotions and social pressure. Positive social ...\n"
     ]
    },
    {
     "data": {
      "text/plain": [
       "'Learn the latest definitions and birth years for different generational groups, including Gen Z and Gen Alpha. Find out how these generations are shaped by historical, economic, and technological factors. Generation Z (often shortened to Gen Z), colloquially known as Zoomers, is the demographic cohort succeeding Millennials and preceding Generation Alpha.Researchers and popular media use the mid-to-late 1990s as starting birth years and the early 2010s as ending birth years. Most members of Generation Z are the children of Generation X or older Millennials. Key insights in 4 charts. Gen Z is the generation born in the 15-year span from 1997 to 2012. In 2024, they will turn between 12 and 27 years old. This is the newest generation to gain influence in the world, from joining the workforce to being old enough to vote. The oldest Gen Zers may have already voted in 2020 and possibly the 2016 elections. Learn who are the Gen Zers, the most racially and ethnically diverse generation of Americans born from 1997 to 2012. Find out how they view their finances, retirement, and social issues in the face of the COVID-19 pandemic. These are the top four drivers that influence the happiness of Gen Zers, the survey found: Purpose and meaning. Basic needs and security. Negative emotions and social pressure. Positive social ...'"
      ]
     },
     "execution_count": 13,
     "metadata": {},
     "output_type": "execute_result"
    }
   ],
   "source": [
    "DuckDuckSearchTool({\"query\":\"GenZ\"})"
   ]
  },
  {
   "cell_type": "code",
   "execution_count": 16,
   "metadata": {},
   "outputs": [
    {
     "data": {
      "text/plain": [
       "'Page: Generation Z\\nSummary: Generation Z (often shortened to Gen Z), colloquially known as Zoomers, is the demographic cohort succeeding Millennials and preceding Generation Alpha. Researchers and popular media use the mid-to-late 1990s as starting birth years and the early 2010s as ending birth years. Most members of Generation Z are the children of Generation X or older Millennials.As the first social generation to have grown up with access to the Internet and portable digital technology from a young age, members of Generation Z, even if not necessarily digitally literate, have been dubbed \"digital natives\". Moreover, the negative effects of screen time are most pronounced in adolescents, as compared to younger children. Compared to previous generations, members of Generation Z tend to live more slowly than their predecessors when they were their age, have lower rates of teenage pregnancies, and consume alcohol (but not necessarily other psychoactive drugs) less often. Generation Z teenagers are more concerned than older generations with academic performance and job prospects, and are better at delaying gratification than their counterparts from the 1960s, despite concerns to the contrary. Sexting among adolescents has grown in prevalence; the consequences of this remain poorly understood. Youth subcultures have not disappeared, but they have been quieter. Nostalgia is a major theme of youth culture in the 2010s and 2020s.Globally, there is evidence that the average age of pubertal onset among girls has decreased considerably compared to the 20th century, with implications for their welfare and their future. Furthermore, the prevalence of allergies among adolescents and young adults in Generation Z is greater than the general population; there is greater awareness and diagnosis of mental health conditions, and sleep deprivation is more frequently reported. In many countries, Gen Z youth are more likely to be diagnosed with intellectual disabilities and psychiatric disorders than older generations.Around the world, members of Generation Z are spending more time on electronic devices and less time reading books than before, with implications for their attention spans, vocabulary, academic performance, and future economic contributions. In Asia, educators in the 2000s and 2010s typically sought out and nourished top students; in Western Europe and the United States, the emphasis was on poor performers. Furthermore, East Asian and Singaporean students consistently earned the top spots in international standardized tests in the 2010s.\\n\\nPage: List of Generation Z slang\\nSummary: This is a list of slang used by Generation Z (Gen Z), generally those born between the late 1990s and early 2010s in the Western world.\\n\\n\\n\\nPage: Gen-Z (consortium)\\nSummary: The Gen-Z Consortium is a trade group of technology vendors involved in designing CPUs, random access memory, servers, storage, and accelerators. The goal was to design an open and royalty-free \"memory-semantic\" bus protocol, which is not limited by the memory controller of a CPU, to be used in either a switched fabric or a point-to-point device link on a standard connector.In November 2021, the GenZ Consortium voted to transfer all its specifications and intellectual property to the CXL Consortium.'"
      ]
     },
     "execution_count": 16,
     "metadata": {},
     "output_type": "execute_result"
    }
   ],
   "source": [
    "WikiSearchTool({\"query\": \"GenZ\"})"
   ]
  },
  {
   "cell_type": "code",
   "execution_count": 17,
   "metadata": {},
   "outputs": [
    {
     "data": {
      "text/plain": [
       "'Text saved to file.'"
      ]
     },
     "execution_count": 17,
     "metadata": {},
     "output_type": "execute_result"
    }
   ],
   "source": [
    "SaveToTextFileTool({\"text\":\"Generation Z (often shortened to Gen Z), colloquially known as Zoomers, is the demographic cohort succeeding Millennials and preceding Generation Alpha. Researchers and popular media use the mid-to-late 1990s as starting birth years and the early 2010s as ending birth years. Most members of Generation Z are the children of Generation X or older Millennials.\\n\\nAs the first social generation to have grown up with access to the Internet and portable digital technology from a young age, members of Generation Z, even if not necessarily digitally literate, have been dubbed \\\"digital natives\\\". Moreover, the negative effects of screen time are most pronounced in adolescents, as compared to younger children. Compared to previous generations, members of Generation Z tend to live more slowly than their predecessors when they were their age, have lower rates of teenage pregnancies, and consume alcohol (but not necessarily other psychoactive drugs) less often. Generation Z teenagers are more concerned than older generations with academic performance and job prospects, and are better at delaying gratification than their counterparts from the 1960s, despite concerns to the contrary.\\n\\nSexting among adolescents has grown in prevalence; the consequences of this remain poorly understood. Youth subcultures have not disappeared, but they have been quieter. Nostalgia is a major theme of youth culture in the 2010s and 2020s.\\n\\nGlobally, there is evidence that the average age of pubertal onset among girls has decreased considerably compared to the 20th century, with implications for their welfare and their future. Furthermore, the prevalence of allergies among adolescents and young adults in Generation Z is greater than the general population; there is greater awareness and diagnosis of mental health conditions, and sleep deprivation is more frequently reported. In many countries, Gen Z youth are more likely to be diagnosed with intellectual disabilities and psychiatric disorders than older generations.\\n\\nAround the world, members of Generation Z are spending more time on electronic devices and less time reading books than before, with implications for their attention spans, vocabulary, academic performance, and future economic contributions. In Asia, educators in the 2000s and 2010s typically sought out and nourished top students; in Western Europe and the United States, the emphasis was on poor performers. Furthermore, East Asian and Singaporean students consistently earned the top spots in international standardized tests in the 2010s.\\n\\nThe Gen-Z Consortium is a trade group of technology vendors involved in designing CPUs, random access memory, servers, storage, and accelerators. The goal was to design an open and royalty-free \\\"memory-semantic\\\" bus protocol, which is not limited by the memory controller of a CPU, to be used in either a switched fabric or a point-to-point device link on a standard connector. In November 2021, the GenZ Consortium voted to transfer all its specifications and intellectual property to the CXL Consortium.\"})"
   ]
  }
 ],
 "metadata": {
  "kernelspec": {
   "display_name": "env",
   "language": "python",
   "name": "python3"
  },
  "language_info": {
   "codemirror_mode": {
    "name": "ipython",
    "version": 3
   },
   "file_extension": ".py",
   "mimetype": "text/x-python",
   "name": "python",
   "nbconvert_exporter": "python",
   "pygments_lexer": "ipython3",
   "version": "3.11.6"
  }
 },
 "nbformat": 4,
 "nbformat_minor": 2
}
