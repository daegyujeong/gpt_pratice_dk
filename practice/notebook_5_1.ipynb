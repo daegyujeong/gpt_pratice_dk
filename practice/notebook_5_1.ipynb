{
    "cells": [
        {
            "cell_type": "code",
            "execution_count": 1,
            "metadata": {},
            "outputs": [
                {
                    "data": {
                        "text/plain": [
                            "{'history': [HumanMessage(content='1'),\n",
                            "  AIMessage(content='1'),\n",
                            "  HumanMessage(content='2'),\n",
                            "  AIMessage(content='1'),\n",
                            "  HumanMessage(content='3'),\n",
                            "  AIMessage(content='1'),\n",
                            "  HumanMessage(content='4'),\n",
                            "  AIMessage(content='1')]}"
                        ]
                    },
                    "execution_count": 1,
                    "metadata": {},
                    "output_type": "execute_result"
                }
            ],
            "source": [
                "from langchain.memory import ConversationBufferWindowMemory\n",
                "def add_message(input,output):\n",
                "    memory.save_context({\"input\":input},{\"output\":output})\n",
                "\n",
                "\n",
                "memory = ConversationBufferWindowMemory(\n",
                "    return_messages=True,\n",
                "    k=4,\n",
                ")\n",
                "def get_history():\n",
                "    return memory.load_memory_variables({})\n",
                "add_message(1,1)\n",
                "add_message(2,1)\n",
                "add_message(3,1)\n",
                "add_message(4,1)\n",
                "add_message(5,5)\n",
                "get_history()\n",
                "#최근 4개의 대화만 저자됨"
            ]
        },
        {
            "cell_type": "markdown",
            "metadata": {},
            "source": []
        }
    ],
    "metadata": {
        "kernelspec": {
            "display_name": "env",
            "language": "python",
            "name": "python3"
        },
        "language_info": {
            "codemirror_mode": {
                "name": "ipython",
                "version": 3
            },
            "file_extension": ".py",
            "mimetype": "text/x-python",
            "name": "python",
            "nbconvert_exporter": "python",
            "pygments_lexer": "ipython3",
            "version": "3.11.6"
        }
    },
    "nbformat": 4,
    "nbformat_minor": 2
}
